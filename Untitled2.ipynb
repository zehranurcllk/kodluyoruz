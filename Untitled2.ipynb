{
 "cells": [
  {
   "cell_type": "code",
   "execution_count": 1,
   "id": "1d731907-9fd2-473a-af6b-2d0af5495374",
   "metadata": {},
   "outputs": [
    {
     "name": "stdout",
     "output_type": "stream",
     "text": [
      "Hesaplanan mesafeler: [5.830951894845301, 5.385164807134504, 7.211102550927978, 7.280109889280518, 3.1622776601683795, 6.082762530298219]\n",
      "En kısa mesafe: 3.1622776601683795\n"
     ]
    }
   ],
   "source": [
    "import math\n",
    "\n",
    "def euclidean_distance(point1, point2):\n",
    "    # İki nokta arasındaki Öklid mesafesini hesaplar\n",
    "    return math.sqrt((point2[0] - point1[0]) ** 2 + (point2[1] - point1[1]) ** 2)\n",
    "\n",
    "def calculate_distances(points):\n",
    "    distances = []\n",
    "    # Noktalar listesindeki her nokta çifti için mesafeyi hesaplayıp, distances listesine ekler\n",
    "    for i in range(len(points)):\n",
    "        for j in range(i + 1, len(points)):\n",
    "            distance = euclidean_distance(points[i], points[j])\n",
    "            distances.append(distance)\n",
    "    return distances\n",
    "\n",
    "# Noktaları tanımlama\n",
    "points = [(1, 3), (4, 8), (6, 1), (7, 7)]\n",
    "\n",
    "# Tüm mesafeleri hesaplayıp, en kısa olanı bulma\n",
    "distances = calculate_distances(points)\n",
    "min_distance = min(distances)\n",
    "\n",
    "print(\"Hesaplanan mesafeler:\", distances)\n",
    "print(\"En kısa mesafe:\", min_distance)\n"
   ]
  },
  {
   "cell_type": "code",
   "execution_count": null,
   "id": "2b53a317-24a1-4371-b31e-c091a3de46c4",
   "metadata": {},
   "outputs": [],
   "source": []
  }
 ],
 "metadata": {
  "kernelspec": {
   "display_name": "Python 3 (ipykernel)",
   "language": "python",
   "name": "python3"
  },
  "language_info": {
   "codemirror_mode": {
    "name": "ipython",
    "version": 3
   },
   "file_extension": ".py",
   "mimetype": "text/x-python",
   "name": "python",
   "nbconvert_exporter": "python",
   "pygments_lexer": "ipython3",
   "version": "3.12.4"
  }
 },
 "nbformat": 4,
 "nbformat_minor": 5
}
